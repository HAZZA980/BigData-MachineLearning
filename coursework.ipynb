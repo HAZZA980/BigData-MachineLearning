{
 "cells": [
  {
   "cell_type": "code",
   "execution_count": 1,
   "id": "f91ac250",
   "metadata": {
    "_cell_guid": "b1076dfc-b9ad-4769-8c92-a6c4dae69d19",
    "_kg_hide-output": false,
    "_uuid": "8f2839f25d086af736a60e9eeb907d3b93b6e0e5",
    "execution": {
     "iopub.execute_input": "2023-03-23T10:37:34.979172Z",
     "iopub.status.busy": "2023-03-23T10:37:34.978588Z",
     "iopub.status.idle": "2023-03-23T10:37:35.008744Z",
     "shell.execute_reply": "2023-03-23T10:37:35.007496Z"
    },
    "papermill": {
     "duration": 0.046065,
     "end_time": "2023-03-23T10:37:35.011898",
     "exception": false,
     "start_time": "2023-03-23T10:37:34.965833",
     "status": "completed"
    },
    "tags": []
   },
   "outputs": [
    {
     "name": "stdout",
     "output_type": "stream",
     "text": [
      "/kaggle/input/titanicdataset/TitanicData.csv\n"
     ]
    }
   ],
   "source": [
    "# This Python 3 environment comes with many helpful analytics libraries installed\n",
    "# It is defined by the kaggle/python Docker image: https://github.com/kaggle/docker-python\n",
    "# For example, here's several helpful packages to load\n",
    "\n",
    "import numpy as np # linear algebra\n",
    "import pandas as pd # data processing, CSV file I/O (e.g. pd.read_csv)\n",
    "\n",
    "# Input data files are available in the read-only \"../input/\" directory\n",
    "# For example, running this (by clicking run or pressing Shift+Enter) will list all files under the input directory\n",
    "\n",
    "import os\n",
    "for dirname, _, filenames in os.walk('/kaggle/input'):\n",
    "    for filename in filenames:\n",
    "        print(os.path.join(dirname, filename))\n",
    "\n",
    "# You can write up to 20GB to the current directory (/kaggle/working/) that gets preserved as output when you create a version using \"Save & Run All\" \n",
    "# You can also write temporary files to /kaggle/temp/, but they won't be saved outside of the current session"
   ]
  },
  {
   "cell_type": "markdown",
   "id": "211a0c90",
   "metadata": {
    "execution": {
     "iopub.execute_input": "2023-03-21T18:03:05.211733Z",
     "iopub.status.busy": "2023-03-21T18:03:05.211345Z",
     "iopub.status.idle": "2023-03-21T18:03:05.220337Z",
     "shell.execute_reply": "2023-03-21T18:03:05.218361Z",
     "shell.execute_reply.started": "2023-03-21T18:03:05.211700Z"
    },
    "papermill": {
     "duration": 0.009901,
     "end_time": "2023-03-23T10:37:35.031958",
     "exception": false,
     "start_time": "2023-03-23T10:37:35.022057",
     "status": "completed"
    },
    "tags": []
   },
   "source": [
    "***Prediction for Survival Rate***"
   ]
  },
  {
   "cell_type": "code",
   "execution_count": 2,
   "id": "64ffc4cb",
   "metadata": {
    "execution": {
     "iopub.execute_input": "2023-03-23T10:37:35.052951Z",
     "iopub.status.busy": "2023-03-23T10:37:35.052563Z",
     "iopub.status.idle": "2023-03-23T10:38:21.594444Z",
     "shell.execute_reply": "2023-03-23T10:38:21.593265Z"
    },
    "papermill": {
     "duration": 46.555737,
     "end_time": "2023-03-23T10:38:21.597408",
     "exception": false,
     "start_time": "2023-03-23T10:37:35.041671",
     "status": "completed"
    },
    "tags": []
   },
   "outputs": [
    {
     "name": "stdout",
     "output_type": "stream",
     "text": [
      "Collecting pyspark==3.2\r\n",
      "  Downloading pyspark-3.2.0.tar.gz (281.3 MB)\r\n",
      "\u001b[2K     \u001b[90m━━━━━━━━━━━━━━━━━━━━━━━━━━━━━━━━━━━━━━━\u001b[0m \u001b[32m281.3/281.3 MB\u001b[0m \u001b[31m4.1 MB/s\u001b[0m eta \u001b[36m0:00:00\u001b[0m\r\n",
      "\u001b[?25h  Preparing metadata (setup.py) ... \u001b[?25l-\b \bdone\r\n",
      "\u001b[?25hCollecting py4j==0.10.9.2\r\n",
      "  Downloading py4j-0.10.9.2-py2.py3-none-any.whl (198 kB)\r\n",
      "\u001b[2K     \u001b[90m━━━━━━━━━━━━━━━━━━━━━━━━━━━━━━━━━━━━━━\u001b[0m \u001b[32m198.8/198.8 kB\u001b[0m \u001b[31m15.0 MB/s\u001b[0m eta \u001b[36m0:00:00\u001b[0m\r\n",
      "\u001b[?25hBuilding wheels for collected packages: pyspark\r\n",
      "  Building wheel for pyspark (setup.py) ... \u001b[?25l-\b \b\\\b \b|\b \b/\b \b-\b \b\\\b \b|\b \b/\b \b-\b \b\\\b \b|\b \bdone\r\n",
      "\u001b[?25h  Created wheel for pyspark: filename=pyspark-3.2.0-py2.py3-none-any.whl size=281805913 sha256=0779e49bcaba3fb3032cfe97488a6c67dd3623ef895f3786d3986cd39241ac06\r\n",
      "  Stored in directory: /root/.cache/pip/wheels/e7/7a/38/336d4a32e61c410ce83bf854593a1955d2d987060c0f26d373\r\n",
      "Successfully built pyspark\r\n",
      "Installing collected packages: py4j, pyspark\r\n",
      "  Attempting uninstall: py4j\r\n",
      "    Found existing installation: py4j 0.10.9.7\r\n",
      "    Uninstalling py4j-0.10.9.7:\r\n",
      "      Successfully uninstalled py4j-0.10.9.7\r\n",
      "Successfully installed py4j-0.10.9.2 pyspark-3.2.0\r\n",
      "\u001b[33mWARNING: Running pip as the 'root' user can result in broken permissions and conflicting behaviour with the system package manager. It is recommended to use a virtual environment instead: https://pip.pypa.io/warnings/venv\u001b[0m\u001b[33m\r\n",
      "\u001b[0m"
     ]
    }
   ],
   "source": [
    "#start pyspark session\n",
    "!pip install pyspark==3.2"
   ]
  },
  {
   "cell_type": "code",
   "execution_count": 3,
   "id": "3c18bf4c",
   "metadata": {
    "execution": {
     "iopub.execute_input": "2023-03-23T10:38:21.633318Z",
     "iopub.status.busy": "2023-03-23T10:38:21.632395Z",
     "iopub.status.idle": "2023-03-23T10:38:22.713559Z",
     "shell.execute_reply": "2023-03-23T10:38:22.712290Z"
    },
    "papermill": {
     "duration": 1.102355,
     "end_time": "2023-03-23T10:38:22.716371",
     "exception": false,
     "start_time": "2023-03-23T10:38:21.614016",
     "status": "completed"
    },
    "tags": []
   },
   "outputs": [],
   "source": [
    "#import all required packages\n",
    "import pandas as pd #what does this do - to replace missing values\n",
    "import matplotlib.pyplot as plt #what does this do - draw figures/graphs - to prove outlier detection\n",
    "import seaborn as sns #what does this do - outlier detection \n",
    "import numpy as np #what does this do - outlier detection"
   ]
  },
  {
   "cell_type": "markdown",
   "id": "f5b2396b",
   "metadata": {
    "papermill": {
     "duration": 0.016692,
     "end_time": "2023-03-23T10:38:22.749785",
     "exception": false,
     "start_time": "2023-03-23T10:38:22.733093",
     "status": "completed"
    },
    "tags": []
   },
   "source": [
    "**Step 1: Data Preprocessing**"
   ]
  },
  {
   "cell_type": "code",
   "execution_count": 4,
   "id": "2da24c07",
   "metadata": {
    "execution": {
     "iopub.execute_input": "2023-03-23T10:38:22.786926Z",
     "iopub.status.busy": "2023-03-23T10:38:22.786496Z",
     "iopub.status.idle": "2023-03-23T10:38:22.848381Z",
     "shell.execute_reply": "2023-03-23T10:38:22.846471Z"
    },
    "papermill": {
     "duration": 0.084232,
     "end_time": "2023-03-23T10:38:22.851009",
     "exception": false,
     "start_time": "2023-03-23T10:38:22.766777",
     "status": "completed"
    },
    "tags": []
   },
   "outputs": [
    {
     "name": "stdout",
     "output_type": "stream",
     "text": [
      "(891, 12)\n",
      "     PassengerId  Pclass                                               Name  \\\n",
      "0              1       3                            Braund, Mr. Owen Harris   \n",
      "1              2       1  Cumings, Mrs. John Bradley (Florence Briggs Th...   \n",
      "2              3       3                             Heikkinen, Miss. Laina   \n",
      "3              4       1       Futrelle, Mrs. Jacques Heath (Lily May Peel)   \n",
      "4              5       3                           Allen, Mr. William Henry   \n",
      "..           ...     ...                                                ...   \n",
      "886          887       2                              Montvila, Rev. Juozas   \n",
      "887          888       1                       Graham, Miss. Margaret Edith   \n",
      "888          889       3           Johnston, Miss. Catherine Helen \"Carrie\"   \n",
      "889          890       1                              Behr, Mr. Karl Howell   \n",
      "890          891       3                                Dooley, Mr. Patrick   \n",
      "\n",
      "        Sex   Age  SibSp  Parch            Ticket     Fare Cabin Embarked  \\\n",
      "0      male  22.0      1      0         A/5 21171   7.2500   NaN        S   \n",
      "1    female  38.0      1      0          PC 17599  71.2833   C85        C   \n",
      "2    female  26.0      0      0  STON/O2. 3101282   7.9250   NaN        S   \n",
      "3    female  35.0      1      0            113803  53.1000  C123        S   \n",
      "4      male  35.0      0      0            373450   8.0500   NaN        S   \n",
      "..      ...   ...    ...    ...               ...      ...   ...      ...   \n",
      "886    male  27.0      0      0            211536  13.0000   NaN        S   \n",
      "887  female  19.0      0      0            112053  30.0000   B42        S   \n",
      "888  female   NaN      1      2        W./C. 6607  23.4500   NaN        S   \n",
      "889    male  26.0      0      0            111369  30.0000  C148        C   \n",
      "890    male  32.0      0      0            370376   7.7500   NaN        Q   \n",
      "\n",
      "     Survived  \n",
      "0           0  \n",
      "1           1  \n",
      "2           1  \n",
      "3           1  \n",
      "4           0  \n",
      "..        ...  \n",
      "886         0  \n",
      "887         1  \n",
      "888         0  \n",
      "889         1  \n",
      "890         0  \n",
      "\n",
      "[891 rows x 12 columns]\n",
      "<class 'pandas.core.frame.DataFrame'>\n",
      "RangeIndex: 891 entries, 0 to 890\n",
      "Data columns (total 12 columns):\n",
      " #   Column       Non-Null Count  Dtype  \n",
      "---  ------       --------------  -----  \n",
      " 0   PassengerId  891 non-null    int64  \n",
      " 1   Pclass       891 non-null    int64  \n",
      " 2   Name         891 non-null    object \n",
      " 3   Sex          891 non-null    object \n",
      " 4   Age          714 non-null    float64\n",
      " 5   SibSp        891 non-null    int64  \n",
      " 6   Parch        891 non-null    int64  \n",
      " 7   Ticket       891 non-null    object \n",
      " 8   Fare         891 non-null    float64\n",
      " 9   Cabin        204 non-null    object \n",
      " 10  Embarked     889 non-null    object \n",
      " 11  Survived     891 non-null    int64  \n",
      "dtypes: float64(2), int64(5), object(5)\n",
      "memory usage: 83.7+ KB\n"
     ]
    }
   ],
   "source": [
    "#load dataset\n",
    "data = pd.read_csv(\"/kaggle/input/titanicdataset/TitanicData.csv\")\n",
    "#show dataset\n",
    "print(data.shape)\n",
    "print(data)\n",
    "data.info()"
   ]
  },
  {
   "cell_type": "markdown",
   "id": "81731804",
   "metadata": {
    "papermill": {
     "duration": 0.016346,
     "end_time": "2023-03-23T10:38:22.884167",
     "exception": false,
     "start_time": "2023-03-23T10:38:22.867821",
     "status": "completed"
    },
    "tags": []
   },
   "source": [
    "Based on the above data, this is my deduction and my next planned steps:\n",
    "\n",
    "* The shape of the dataset shows that there is 891 records with 12 categories/columns\n",
    "* The data info shows that there are 2 categories of type float, 5 categories of type int and 5 categories of type object.\n",
    "\n",
    "Columns with missing information include:\n",
    "\n",
    "* Age = 714/891 records - as majority of data is available the missing values will be predicted via age mean.\n",
    "* Cabin = 204/891 records - as most of the data is missing and the information this category provides is unuseful, the column will be dropped.\n",
    "* Embarked = 889/891 - as only 2 records are missing, those will be dropped to reduce the dataset to 889 records."
   ]
  },
  {
   "cell_type": "code",
   "execution_count": 5,
   "id": "ed49aa0b",
   "metadata": {
    "execution": {
     "iopub.execute_input": "2023-03-23T10:38:22.919665Z",
     "iopub.status.busy": "2023-03-23T10:38:22.919183Z",
     "iopub.status.idle": "2023-03-23T10:38:22.945046Z",
     "shell.execute_reply": "2023-03-23T10:38:22.943264Z"
    },
    "papermill": {
     "duration": 0.047538,
     "end_time": "2023-03-23T10:38:22.948449",
     "exception": false,
     "start_time": "2023-03-23T10:38:22.900911",
     "status": "completed"
    },
    "tags": []
   },
   "outputs": [
    {
     "name": "stdout",
     "output_type": "stream",
     "text": [
      "(889, 11)\n",
      "     PassengerId  Pclass                                               Name  \\\n",
      "0              1       3                            Braund, Mr. Owen Harris   \n",
      "1              2       1  Cumings, Mrs. John Bradley (Florence Briggs Th...   \n",
      "2              3       3                             Heikkinen, Miss. Laina   \n",
      "3              4       1       Futrelle, Mrs. Jacques Heath (Lily May Peel)   \n",
      "4              5       3                           Allen, Mr. William Henry   \n",
      "..           ...     ...                                                ...   \n",
      "886          887       2                              Montvila, Rev. Juozas   \n",
      "887          888       1                       Graham, Miss. Margaret Edith   \n",
      "888          889       3           Johnston, Miss. Catherine Helen \"Carrie\"   \n",
      "889          890       1                              Behr, Mr. Karl Howell   \n",
      "890          891       3                                Dooley, Mr. Patrick   \n",
      "\n",
      "        Sex   Age  SibSp  Parch            Ticket     Fare Embarked  Survived  \n",
      "0      male  22.0      1      0         A/5 21171   7.2500        S         0  \n",
      "1    female  38.0      1      0          PC 17599  71.2833        C         1  \n",
      "2    female  26.0      0      0  STON/O2. 3101282   7.9250        S         1  \n",
      "3    female  35.0      1      0            113803  53.1000        S         1  \n",
      "4      male  35.0      0      0            373450   8.0500        S         0  \n",
      "..      ...   ...    ...    ...               ...      ...      ...       ...  \n",
      "886    male  27.0      0      0            211536  13.0000        S         0  \n",
      "887  female  19.0      0      0            112053  30.0000        S         1  \n",
      "888  female   NaN      1      2        W./C. 6607  23.4500        S         0  \n",
      "889    male  26.0      0      0            111369  30.0000        C         1  \n",
      "890    male  32.0      0      0            370376   7.7500        Q         0  \n",
      "\n",
      "[889 rows x 11 columns]\n",
      "<class 'pandas.core.frame.DataFrame'>\n",
      "Int64Index: 889 entries, 0 to 890\n",
      "Data columns (total 11 columns):\n",
      " #   Column       Non-Null Count  Dtype  \n",
      "---  ------       --------------  -----  \n",
      " 0   PassengerId  889 non-null    int64  \n",
      " 1   Pclass       889 non-null    int64  \n",
      " 2   Name         889 non-null    object \n",
      " 3   Sex          889 non-null    object \n",
      " 4   Age          712 non-null    float64\n",
      " 5   SibSp        889 non-null    int64  \n",
      " 6   Parch        889 non-null    int64  \n",
      " 7   Ticket       889 non-null    object \n",
      " 8   Fare         889 non-null    float64\n",
      " 9   Embarked     889 non-null    object \n",
      " 10  Survived     889 non-null    int64  \n",
      "dtypes: float64(2), int64(5), object(4)\n",
      "memory usage: 83.3+ KB\n"
     ]
    }
   ],
   "source": [
    "#first removing data that is uneccesary\n",
    "\n",
    "data2 = data.drop(columns = ['Cabin'])\n",
    "data2 = data2.dropna(subset=['Embarked'])\n",
    "\n",
    "print(data2.shape)\n",
    "print(data2)\n",
    "data2.info()"
   ]
  },
  {
   "cell_type": "code",
   "execution_count": 6,
   "id": "4d04ffab",
   "metadata": {
    "execution": {
     "iopub.execute_input": "2023-03-23T10:38:22.985153Z",
     "iopub.status.busy": "2023-03-23T10:38:22.984741Z",
     "iopub.status.idle": "2023-03-23T10:38:22.995268Z",
     "shell.execute_reply": "2023-03-23T10:38:22.994017Z"
    },
    "papermill": {
     "duration": 0.032078,
     "end_time": "2023-03-23T10:38:22.997997",
     "exception": false,
     "start_time": "2023-03-23T10:38:22.965919",
     "status": "completed"
    },
    "tags": []
   },
   "outputs": [
    {
     "name": "stdout",
     "output_type": "stream",
     "text": [
      "0      22.0\n",
      "1      38.0\n",
      "2      26.0\n",
      "3      35.0\n",
      "4      35.0\n",
      "       ... \n",
      "886    27.0\n",
      "887    19.0\n",
      "888     NaN\n",
      "889    26.0\n",
      "890    32.0\n",
      "Name: Age, Length: 889, dtype: float64\n",
      "0      22.0\n",
      "1      38.0\n",
      "2      26.0\n",
      "3      35.0\n",
      "4      35.0\n",
      "       ... \n",
      "886    27.0\n",
      "887    19.0\n",
      "888    30.0\n",
      "889    26.0\n",
      "890    32.0\n",
      "Name: Age, Length: 889, dtype: float64\n"
     ]
    }
   ],
   "source": [
    "#to fill in Age where there is no value\n",
    "print(data2['Age'])\n",
    "data2['Age'] = data2['Age'].fillna(data2['Age'].mean().round(0))\n",
    "print(data2['Age'])"
   ]
  },
  {
   "cell_type": "code",
   "execution_count": 7,
   "id": "ea3d517e",
   "metadata": {
    "execution": {
     "iopub.execute_input": "2023-03-23T10:38:23.034515Z",
     "iopub.status.busy": "2023-03-23T10:38:23.034073Z",
     "iopub.status.idle": "2023-03-23T10:38:23.059164Z",
     "shell.execute_reply": "2023-03-23T10:38:23.057665Z"
    },
    "papermill": {
     "duration": 0.047227,
     "end_time": "2023-03-23T10:38:23.062385",
     "exception": false,
     "start_time": "2023-03-23T10:38:23.015158",
     "status": "completed"
    },
    "tags": []
   },
   "outputs": [
    {
     "name": "stdout",
     "output_type": "stream",
     "text": [
      "     PassengerId  Pclass                                               Name  \\\n",
      "0              1       3                            Braund, Mr. Owen Harris   \n",
      "1              2       1  Cumings, Mrs. John Bradley (Florence Briggs Th...   \n",
      "2              3       3                             Heikkinen, Miss. Laina   \n",
      "3              4       1       Futrelle, Mrs. Jacques Heath (Lily May Peel)   \n",
      "4              5       3                           Allen, Mr. William Henry   \n",
      "..           ...     ...                                                ...   \n",
      "886          887       2                              Montvila, Rev. Juozas   \n",
      "887          888       1                       Graham, Miss. Margaret Edith   \n",
      "888          889       3           Johnston, Miss. Catherine Helen \"Carrie\"   \n",
      "889          890       1                              Behr, Mr. Karl Howell   \n",
      "890          891       3                                Dooley, Mr. Patrick   \n",
      "\n",
      "        Sex   Age  SibSp  Parch            Ticket     Fare Embarked  Survived  \n",
      "0      male  22.0      1      0         A/5 21171   7.2500        S         0  \n",
      "1    female  38.0      1      0          PC 17599  71.2833        C         1  \n",
      "2    female  26.0      0      0  STON/O2. 3101282   7.9250        S         1  \n",
      "3    female  35.0      1      0            113803  53.1000        S         1  \n",
      "4      male  35.0      0      0            373450   8.0500        S         0  \n",
      "..      ...   ...    ...    ...               ...      ...      ...       ...  \n",
      "886    male  27.0      0      0            211536  13.0000        S         0  \n",
      "887  female  19.0      0      0            112053  30.0000        S         1  \n",
      "888  female  30.0      1      2        W./C. 6607  23.4500        S         0  \n",
      "889    male  26.0      0      0            111369  30.0000        C         1  \n",
      "890    male  32.0      0      0            370376   7.7500        Q         0  \n",
      "\n",
      "[889 rows x 11 columns]\n",
      "<class 'pandas.core.frame.DataFrame'>\n",
      "Int64Index: 889 entries, 0 to 890\n",
      "Data columns (total 11 columns):\n",
      " #   Column       Non-Null Count  Dtype  \n",
      "---  ------       --------------  -----  \n",
      " 0   PassengerId  889 non-null    int64  \n",
      " 1   Pclass       889 non-null    int64  \n",
      " 2   Name         889 non-null    object \n",
      " 3   Sex          889 non-null    object \n",
      " 4   Age          889 non-null    float64\n",
      " 5   SibSp        889 non-null    int64  \n",
      " 6   Parch        889 non-null    int64  \n",
      " 7   Ticket       889 non-null    object \n",
      " 8   Fare         889 non-null    float64\n",
      " 9   Embarked     889 non-null    object \n",
      " 10  Survived     889 non-null    int64  \n",
      "dtypes: float64(2), int64(5), object(4)\n",
      "memory usage: 83.3+ KB\n",
      "Empty DataFrame\n",
      "Columns: [PassengerId, Pclass, Name, Sex, Age, SibSp, Parch, Ticket, Fare, Embarked, Survived]\n",
      "Index: []\n"
     ]
    }
   ],
   "source": [
    "#check data if clean\n",
    "print(data2)\n",
    "data2.info()\n",
    "dataCheck = data2.loc[data2.isnull().any(axis=1)]\n",
    "print(dataCheck)"
   ]
  },
  {
   "cell_type": "markdown",
   "id": "449e8407",
   "metadata": {
    "papermill": {
     "duration": 0.016759,
     "end_time": "2023-03-23T10:38:23.097115",
     "exception": false,
     "start_time": "2023-03-23T10:38:23.080356",
     "status": "completed"
    },
    "tags": []
   },
   "source": [
    "There are no more records with Non Null values. Next will be transforming values Sex and Embarked from object type to int type"
   ]
  },
  {
   "cell_type": "code",
   "execution_count": 8,
   "id": "e919b5e6",
   "metadata": {
    "execution": {
     "iopub.execute_input": "2023-03-23T10:38:23.133159Z",
     "iopub.status.busy": "2023-03-23T10:38:23.132746Z",
     "iopub.status.idle": "2023-03-23T10:38:23.149405Z",
     "shell.execute_reply": "2023-03-23T10:38:23.148239Z"
    },
    "papermill": {
     "duration": 0.038296,
     "end_time": "2023-03-23T10:38:23.152422",
     "exception": false,
     "start_time": "2023-03-23T10:38:23.114126",
     "status": "completed"
    },
    "tags": []
   },
   "outputs": [
    {
     "name": "stdout",
     "output_type": "stream",
     "text": [
      "<class 'pandas.core.frame.DataFrame'>\n",
      "Int64Index: 889 entries, 0 to 890\n",
      "Data columns (total 11 columns):\n",
      " #   Column       Non-Null Count  Dtype  \n",
      "---  ------       --------------  -----  \n",
      " 0   PassengerId  889 non-null    int64  \n",
      " 1   Pclass       889 non-null    int64  \n",
      " 2   Name         889 non-null    object \n",
      " 3   Sex          889 non-null    int64  \n",
      " 4   Age          889 non-null    float64\n",
      " 5   SibSp        889 non-null    int64  \n",
      " 6   Parch        889 non-null    int64  \n",
      " 7   Ticket       889 non-null    object \n",
      " 8   Fare         889 non-null    float64\n",
      " 9   Embarked     889 non-null    int64  \n",
      " 10  Survived     889 non-null    int64  \n",
      "dtypes: float64(2), int64(7), object(2)\n",
      "memory usage: 83.3+ KB\n"
     ]
    }
   ],
   "source": [
    "#make sex and embarked columns numerical\n",
    "data2['Sex'] = data2['Sex'].map( {'male': 1,'female': 0} )\n",
    "data2['Embarked'] = data2['Embarked'].map( {'S': 0, 'C': 1, 'Q': 2} )\n",
    "data2.info()"
   ]
  },
  {
   "cell_type": "markdown",
   "id": "3a4aeed4",
   "metadata": {
    "papermill": {
     "duration": 0.016845,
     "end_time": "2023-03-23T10:38:23.187702",
     "exception": false,
     "start_time": "2023-03-23T10:38:23.170857",
     "status": "completed"
    },
    "tags": []
   },
   "source": [
    "All appropriate columns are now numerical. Next step is to check for outliers"
   ]
  },
  {
   "cell_type": "code",
   "execution_count": 9,
   "id": "4412d250",
   "metadata": {
    "execution": {
     "iopub.execute_input": "2023-03-23T10:38:23.225011Z",
     "iopub.status.busy": "2023-03-23T10:38:23.223974Z",
     "iopub.status.idle": "2023-03-23T10:38:23.274917Z",
     "shell.execute_reply": "2023-03-23T10:38:23.273520Z"
    },
    "papermill": {
     "duration": 0.07223,
     "end_time": "2023-03-23T10:38:23.277634",
     "exception": false,
     "start_time": "2023-03-23T10:38:23.205404",
     "status": "completed"
    },
    "tags": []
   },
   "outputs": [
    {
     "data": {
      "text/html": [
       "<div>\n",
       "<style scoped>\n",
       "    .dataframe tbody tr th:only-of-type {\n",
       "        vertical-align: middle;\n",
       "    }\n",
       "\n",
       "    .dataframe tbody tr th {\n",
       "        vertical-align: top;\n",
       "    }\n",
       "\n",
       "    .dataframe thead th {\n",
       "        text-align: right;\n",
       "    }\n",
       "</style>\n",
       "<table border=\"1\" class=\"dataframe\">\n",
       "  <thead>\n",
       "    <tr style=\"text-align: right;\">\n",
       "      <th></th>\n",
       "      <th>PassengerId</th>\n",
       "      <th>Pclass</th>\n",
       "      <th>Sex</th>\n",
       "      <th>Age</th>\n",
       "      <th>SibSp</th>\n",
       "      <th>Parch</th>\n",
       "      <th>Fare</th>\n",
       "      <th>Embarked</th>\n",
       "      <th>Survived</th>\n",
       "    </tr>\n",
       "  </thead>\n",
       "  <tbody>\n",
       "    <tr>\n",
       "      <th>count</th>\n",
       "      <td>889.000000</td>\n",
       "      <td>889.000000</td>\n",
       "      <td>889.000000</td>\n",
       "      <td>889.000000</td>\n",
       "      <td>889.000000</td>\n",
       "      <td>889.000000</td>\n",
       "      <td>889.000000</td>\n",
       "      <td>889.000000</td>\n",
       "      <td>889.000000</td>\n",
       "    </tr>\n",
       "    <tr>\n",
       "      <th>mean</th>\n",
       "      <td>446.000000</td>\n",
       "      <td>2.311586</td>\n",
       "      <td>0.649044</td>\n",
       "      <td>29.713352</td>\n",
       "      <td>0.524184</td>\n",
       "      <td>0.382452</td>\n",
       "      <td>32.096681</td>\n",
       "      <td>0.362205</td>\n",
       "      <td>0.382452</td>\n",
       "    </tr>\n",
       "    <tr>\n",
       "      <th>std</th>\n",
       "      <td>256.998173</td>\n",
       "      <td>0.834700</td>\n",
       "      <td>0.477538</td>\n",
       "      <td>12.969135</td>\n",
       "      <td>1.103705</td>\n",
       "      <td>0.806761</td>\n",
       "      <td>49.697504</td>\n",
       "      <td>0.636157</td>\n",
       "      <td>0.486260</td>\n",
       "    </tr>\n",
       "    <tr>\n",
       "      <th>min</th>\n",
       "      <td>1.000000</td>\n",
       "      <td>1.000000</td>\n",
       "      <td>0.000000</td>\n",
       "      <td>0.420000</td>\n",
       "      <td>0.000000</td>\n",
       "      <td>0.000000</td>\n",
       "      <td>0.000000</td>\n",
       "      <td>0.000000</td>\n",
       "      <td>0.000000</td>\n",
       "    </tr>\n",
       "    <tr>\n",
       "      <th>25%</th>\n",
       "      <td>224.000000</td>\n",
       "      <td>2.000000</td>\n",
       "      <td>0.000000</td>\n",
       "      <td>22.000000</td>\n",
       "      <td>0.000000</td>\n",
       "      <td>0.000000</td>\n",
       "      <td>7.895800</td>\n",
       "      <td>0.000000</td>\n",
       "      <td>0.000000</td>\n",
       "    </tr>\n",
       "    <tr>\n",
       "      <th>50%</th>\n",
       "      <td>446.000000</td>\n",
       "      <td>3.000000</td>\n",
       "      <td>1.000000</td>\n",
       "      <td>30.000000</td>\n",
       "      <td>0.000000</td>\n",
       "      <td>0.000000</td>\n",
       "      <td>14.454200</td>\n",
       "      <td>0.000000</td>\n",
       "      <td>0.000000</td>\n",
       "    </tr>\n",
       "    <tr>\n",
       "      <th>75%</th>\n",
       "      <td>668.000000</td>\n",
       "      <td>3.000000</td>\n",
       "      <td>1.000000</td>\n",
       "      <td>35.000000</td>\n",
       "      <td>1.000000</td>\n",
       "      <td>0.000000</td>\n",
       "      <td>31.000000</td>\n",
       "      <td>1.000000</td>\n",
       "      <td>1.000000</td>\n",
       "    </tr>\n",
       "    <tr>\n",
       "      <th>max</th>\n",
       "      <td>891.000000</td>\n",
       "      <td>3.000000</td>\n",
       "      <td>1.000000</td>\n",
       "      <td>80.000000</td>\n",
       "      <td>8.000000</td>\n",
       "      <td>6.000000</td>\n",
       "      <td>512.329200</td>\n",
       "      <td>2.000000</td>\n",
       "      <td>1.000000</td>\n",
       "    </tr>\n",
       "  </tbody>\n",
       "</table>\n",
       "</div>"
      ],
      "text/plain": [
       "       PassengerId      Pclass         Sex         Age       SibSp  \\\n",
       "count   889.000000  889.000000  889.000000  889.000000  889.000000   \n",
       "mean    446.000000    2.311586    0.649044   29.713352    0.524184   \n",
       "std     256.998173    0.834700    0.477538   12.969135    1.103705   \n",
       "min       1.000000    1.000000    0.000000    0.420000    0.000000   \n",
       "25%     224.000000    2.000000    0.000000   22.000000    0.000000   \n",
       "50%     446.000000    3.000000    1.000000   30.000000    0.000000   \n",
       "75%     668.000000    3.000000    1.000000   35.000000    1.000000   \n",
       "max     891.000000    3.000000    1.000000   80.000000    8.000000   \n",
       "\n",
       "            Parch        Fare    Embarked    Survived  \n",
       "count  889.000000  889.000000  889.000000  889.000000  \n",
       "mean     0.382452   32.096681    0.362205    0.382452  \n",
       "std      0.806761   49.697504    0.636157    0.486260  \n",
       "min      0.000000    0.000000    0.000000    0.000000  \n",
       "25%      0.000000    7.895800    0.000000    0.000000  \n",
       "50%      0.000000   14.454200    0.000000    0.000000  \n",
       "75%      0.000000   31.000000    1.000000    1.000000  \n",
       "max      6.000000  512.329200    2.000000    1.000000  "
      ]
     },
     "execution_count": 9,
     "metadata": {},
     "output_type": "execute_result"
    }
   ],
   "source": [
    "data2.describe()"
   ]
  },
  {
   "cell_type": "markdown",
   "id": "c551ab6f",
   "metadata": {
    "papermill": {
     "duration": 0.018489,
     "end_time": "2023-03-23T10:38:23.313972",
     "exception": false,
     "start_time": "2023-03-23T10:38:23.295483",
     "status": "completed"
    },
    "tags": []
   },
   "source": [
    "Based on above results, PassengerID, Pclass, Sex, Embarked and Survived don't have any outliers but the last 3 will be checked again.\n",
    "\n",
    "Rows to ensure they don't have any outliers are Age, SibSp, Parch and Fare"
   ]
  },
  {
   "cell_type": "code",
   "execution_count": 10,
   "id": "b64f0aa3",
   "metadata": {
    "execution": {
     "iopub.execute_input": "2023-03-23T10:38:23.351334Z",
     "iopub.status.busy": "2023-03-23T10:38:23.350884Z",
     "iopub.status.idle": "2023-03-23T10:38:23.625600Z",
     "shell.execute_reply": "2023-03-23T10:38:23.624599Z"
    },
    "papermill": {
     "duration": 0.296263,
     "end_time": "2023-03-23T10:38:23.627921",
     "exception": false,
     "start_time": "2023-03-23T10:38:23.331658",
     "status": "completed"
    },
    "tags": []
   },
   "outputs": [
    {
     "data": {
      "image/png": "[encoded data removed]",
      "text/plain": [
       "<Figure size 640x480 with 1 Axes>"
      ]
     },
     "metadata": {},
     "output_type": "display_data"
    }
   ],
   "source": [
    "fig = plt.hist(data2['Survived'])\n",
    "fig = plt.hist(data2['Pclass'])"
   ]
  },
  {
   "cell_type": "code",
   "execution_count": 11,
   "id": "d9a84445",
   "metadata": {
    "execution": {
     "iopub.execute_input": "2023-03-23T10:38:23.666011Z",
     "iopub.status.busy": "2023-03-23T10:38:23.665316Z",
     "iopub.status.idle": "2023-03-23T10:38:23.894251Z",
     "shell.execute_reply": "2023-03-23T10:38:23.893300Z"
    },
    "papermill": {
     "duration": 0.250765,
     "end_time": "2023-03-23T10:38:23.896668",
     "exception": false,
     "start_time": "2023-03-23T10:38:23.645903",
     "status": "completed"
    },
    "tags": []
   },
   "outputs": [
    {
     "data": {
      "image/png": "[encoded data removed]",
      "text/plain": [
       "<Figure size 640x480 with 1 Axes>"
      ]
     },
     "metadata": {},
     "output_type": "display_data"
    }
   ],
   "source": [
    "fig = plt.hist(data2['Sex'])"
   ]
  },
  {
   "cell_type": "code",
   "execution_count": 12,
   "id": "a35e86f0",
   "metadata": {
    "execution": {
     "iopub.execute_input": "2023-03-23T10:38:23.934801Z",
     "iopub.status.busy": "2023-03-23T10:38:23.934089Z",
     "iopub.status.idle": "2023-03-23T10:38:24.186316Z",
     "shell.execute_reply": "2023-03-23T10:38:24.185056Z"
    },
    "papermill": {
     "duration": 0.274175,
     "end_time": "2023-03-23T10:38:24.188792",
     "exception": false,
     "start_time": "2023-03-23T10:38:23.914617",
     "status": "completed"
    },
    "tags": []
   },
   "outputs": [
    {
     "data": {
      "image/png": "[encoded data removed]",
      "text/plain": [
       "<Figure size 640x480 with 1 Axes>"
      ]
     },
     "metadata": {},
     "output_type": "display_data"
    }
   ],
   "source": [
    "fig = plt.hist(data2['Embarked'])"
   ]
  },
  {
   "cell_type": "code",
   "execution_count": 13,
   "id": "fc46a6b1",
   "metadata": {
    "execution": {
     "iopub.execute_input": "2023-03-23T10:38:24.228015Z",
     "iopub.status.busy": "2023-03-23T10:38:24.227259Z",
     "iopub.status.idle": "2023-03-23T10:38:24.475160Z",
     "shell.execute_reply": "2023-03-23T10:38:24.473502Z"
    },
    "papermill": {
     "duration": 0.271179,
     "end_time": "2023-03-23T10:38:24.478615",
     "exception": false,
     "start_time": "2023-03-23T10:38:24.207436",
     "status": "completed"
    },
    "tags": []
   },
   "outputs": [
    {
     "data": {
      "image/png": "[encoded data removed]",
      "text/plain": [
       "<Figure size 640x480 with 1 Axes>"
      ]
     },
     "metadata": {},
     "output_type": "display_data"
    }
   ],
   "source": [
    "fig = plt.hist(data['Age'])"
   ]
  },
  {
   "cell_type": "code",
   "execution_count": 14,
   "id": "f8304b5f",
   "metadata": {
    "execution": {
     "iopub.execute_input": "2023-03-23T10:38:24.518768Z",
     "iopub.status.busy": "2023-03-23T10:38:24.517955Z",
     "iopub.status.idle": "2023-03-23T10:38:24.759716Z",
     "shell.execute_reply": "2023-03-23T10:38:24.758301Z"
    },
    "papermill": {
     "duration": 0.264924,
     "end_time": "2023-03-23T10:38:24.762492",
     "exception": false,
     "start_time": "2023-03-23T10:38:24.497568",
     "status": "completed"
    },
    "tags": []
   },
   "outputs": [
    {
     "data": {
      "image/png": "[encoded data removed]",
      "text/plain": [
       "<Figure size 640x480 with 1 Axes>"
      ]
     },
     "metadata": {},
     "output_type": "display_data"
    }
   ],
   "source": [
    "fig = plt.scatter(data['PassengerId'], data['SibSp']) \n",
    "#multiple values for 8 - need to determine how many to make proper judgement if outlier"
   ]
  },
  {
   "cell_type": "code",
   "execution_count": 15,
   "id": "def4049c",
   "metadata": {
    "execution": {
     "iopub.execute_input": "2023-03-23T10:38:24.803000Z",
     "iopub.status.busy": "2023-03-23T10:38:24.802107Z",
     "iopub.status.idle": "2023-03-23T10:38:25.030134Z",
     "shell.execute_reply": "2023-03-23T10:38:25.027295Z"
    },
    "papermill": {
     "duration": 0.253083,
     "end_time": "2023-03-23T10:38:25.034588",
     "exception": false,
     "start_time": "2023-03-23T10:38:24.781505",
     "status": "completed"
    },
    "tags": []
   },
   "outputs": [
    {
     "data": {
      "image/png": "[encoded data removed]",
      "text/plain": [
       "<Figure size 640x480 with 1 Axes>"
      ]
     },
     "metadata": {},
     "output_type": "display_data"
    }
   ],
   "source": [
    "fig = plt.scatter(data['PassengerId'],data['Parch']) \n",
    "#6 is definitely outlier - to be removed"
   ]
  },
  {
   "cell_type": "code",
   "execution_count": 16,
   "id": "8e5744b1",
   "metadata": {
    "execution": {
     "iopub.execute_input": "2023-03-23T10:38:25.080544Z",
     "iopub.status.busy": "2023-03-23T10:38:25.079333Z",
     "iopub.status.idle": "2023-03-23T10:38:25.311279Z",
     "shell.execute_reply": "2023-03-23T10:38:25.310035Z"
    },
    "papermill": {
     "duration": 0.256563,
     "end_time": "2023-03-23T10:38:25.314504",
     "exception": false,
     "start_time": "2023-03-23T10:38:25.057941",
     "status": "completed"
    },
    "tags": []
   },
   "outputs": [
    {
     "data": {
      "image/png": "[encoded data removed]",
      "text/plain": [
       "<Figure size 640x480 with 1 Axes>"
      ]
     },
     "metadata": {},
     "output_type": "display_data"
    }
   ],
   "source": [
    "fig = plt.scatter(data['PassengerId'],data['Fare']) \n",
    "#Going to call 500 an outlier, will make it mean value"
   ]
  },
  {
   "cell_type": "markdown",
   "id": "1894ce3e",
   "metadata": {
    "papermill": {
     "duration": 0.01986,
     "end_time": "2023-03-23T10:38:25.355416",
     "exception": false,
     "start_time": "2023-03-23T10:38:25.335556",
     "status": "completed"
    },
    "tags": []
   },
   "source": [
    "Assumptions based on the graph:\n",
    "\n",
    "* PassengerId - No need to change, numbering is sequential\n",
    "* Pclass - No need to change, numbering is categorical, 1 2 3 and no other information\n",
    "* Sex - No need to change, numbering is categorical, 0(female), 1(male)\n",
    "* Age - No need to change, the values seems to be evenly spread out and there doesn't seem to be any unreleastic outliers\n",
    "* SibSp - While it might seem like there is an outlier, the column wont be used for the prediction so I won't worried about\n",
    "* Parch - While it might seem like there is an outlier, the column wont be used for the prediction so I won't worried about\n",
    "* Fare - While it might seem like there is an outlier, the column wont be used for the prediction so I won't worried about\n",
    "* Embarked - No need to change, numbering is categorical, 0(S), 1(C), 2(Q)\n",
    "* Survived - No need to change, numbering is categorical, 0(No), 1(Yes)"
   ]
  },
  {
   "cell_type": "markdown",
   "id": "d872f737",
   "metadata": {
    "papermill": {
     "duration": 0.019632,
     "end_time": "2023-03-23T10:38:25.395576",
     "exception": false,
     "start_time": "2023-03-23T10:38:25.375944",
     "status": "completed"
    },
    "tags": []
   },
   "source": [
    "Data cleaning is officially completed.\n",
    "\n",
    "I don't believe data reduction is necessary for this as it will allow for better result to have more data, and there has already been some reduction done with the cleaning stage.\n",
    "\n",
    "Next step is Data Transformation"
   ]
  },
  {
   "cell_type": "markdown",
   "id": "e187777c",
   "metadata": {
    "papermill": {
     "duration": 0.023469,
     "end_time": "2023-03-23T10:38:25.439350",
     "exception": false,
     "start_time": "2023-03-23T10:38:25.415881",
     "status": "completed"
    },
    "tags": []
   },
   "source": [
    "To predict Survival Rate I would suggest the following columns, which will allow for better filtering (?not sure if it is the right word).\n",
    "\n",
    "* Pclass - to predict survival rate based on class\n",
    "* Sex - to predict survival rate based on gender\n",
    "* Age - to predict survival rate based on age\n",
    "* Embarked - to predict survival rate based on location\n",
    "\n",
    "I assume I will also need Survived for the prediction."
   ]
  },
  {
   "cell_type": "markdown",
   "id": "d8145b3f",
   "metadata": {
    "papermill": {
     "duration": 0.019842,
     "end_time": "2023-03-23T10:38:25.481331",
     "exception": false,
     "start_time": "2023-03-23T10:38:25.461489",
     "status": "completed"
    },
    "tags": []
   },
   "source": [
    "**Step 2: Extract/Select features to describe data**"
   ]
  },
  {
   "cell_type": "code",
   "execution_count": 17,
   "id": "47cff598",
   "metadata": {
    "execution": {
     "iopub.execute_input": "2023-03-23T10:38:25.522754Z",
     "iopub.status.busy": "2023-03-23T10:38:25.522333Z",
     "iopub.status.idle": "2023-03-23T10:38:34.518688Z",
     "shell.execute_reply": "2023-03-23T10:38:34.517413Z"
    },
    "papermill": {
     "duration": 9.022301,
     "end_time": "2023-03-23T10:38:34.523355",
     "exception": false,
     "start_time": "2023-03-23T10:38:25.501054",
     "status": "completed"
    },
    "tags": []
   },
   "outputs": [
    {
     "name": "stderr",
     "output_type": "stream",
     "text": [
      "WARNING: An illegal reflective access operation has occurred\n",
      "WARNING: Illegal reflective access by org.apache.spark.unsafe.Platform (file:/opt/conda/lib/python3.7/site-packages/pyspark/jars/spark-unsafe_2.12-3.2.0.jar) to constructor java.nio.DirectByteBuffer(long,int)\n",
      "WARNING: Please consider reporting this to the maintainers of org.apache.spark.unsafe.Platform\n",
      "WARNING: Use --illegal-access=warn to enable warnings of further illegal reflective access operations\n",
      "WARNING: All illegal access operations will be denied in a future release\n",
      "Using Spark's default log4j profile: org/apache/spark/log4j-defaults.properties\n",
      "Setting default log level to \"WARN\".\n",
      "To adjust logging level use sc.setLogLevel(newLevel). For SparkR, use setLogLevel(newLevel).\n",
      "23/03/23 10:38:28 WARN NativeCodeLoader: Unable to load native-hadoop library for your platform... using builtin-java classes where applicable\n"
     ]
    }
   ],
   "source": [
    "#what do these do - start pyspark session and configuration\n",
    "from pyspark import SparkConf, SparkContext \n",
    "from pyspark.sql import SparkSession, SQLContext \n",
    "spark = SparkSession.builder.master(\"local[2]\").appName(\"lg\").getOrCreate()\n",
    "sc = spark.sparkContext\n",
    "\n",
    "cleanedData = spark.createDataFrame(data2)"
   ]
  },
  {
   "cell_type": "code",
   "execution_count": 18,
   "id": "bca86ae0",
   "metadata": {
    "execution": {
     "iopub.execute_input": "2023-03-23T10:38:34.568649Z",
     "iopub.status.busy": "2023-03-23T10:38:34.568173Z",
     "iopub.status.idle": "2023-03-23T10:38:34.625510Z",
     "shell.execute_reply": "2023-03-23T10:38:34.624390Z"
    },
    "papermill": {
     "duration": 0.082167,
     "end_time": "2023-03-23T10:38:34.628176",
     "exception": false,
     "start_time": "2023-03-23T10:38:34.546009",
     "status": "completed"
    },
    "tags": []
   },
   "outputs": [],
   "source": [
    "from pyspark.ml.feature import VectorAssembler as vAss, StringIndexer as sInd #what do these do - feature transformation\n",
    "from pyspark.ml import Pipeline as pl#what does this do - feature transformation"
   ]
  },
  {
   "cell_type": "code",
   "execution_count": 19,
   "id": "2d80060e",
   "metadata": {
    "execution": {
     "iopub.execute_input": "2023-03-23T10:38:34.671413Z",
     "iopub.status.busy": "2023-03-23T10:38:34.670135Z",
     "iopub.status.idle": "2023-03-23T10:38:37.000258Z",
     "shell.execute_reply": "2023-03-23T10:38:36.998827Z"
    },
    "papermill": {
     "duration": 2.359971,
     "end_time": "2023-03-23T10:38:37.008544",
     "exception": false,
     "start_time": "2023-03-23T10:38:34.648573",
     "status": "completed"
    },
    "tags": []
   },
   "outputs": [
    {
     "name": "stderr",
     "output_type": "stream",
     "text": [
      "[Stage 0:>                                                          (0 + 1) / 1]\r"
     ]
    },
    {
     "name": "stdout",
     "output_type": "stream",
     "text": [
      "+-----------+------+--------------------+---+----+-----+-----+----------------+-------+--------+--------+\n",
      "|PassengerId|Pclass|                Name|Sex| Age|SibSp|Parch|          Ticket|   Fare|Embarked|Survived|\n",
      "+-----------+------+--------------------+---+----+-----+-----+----------------+-------+--------+--------+\n",
      "|          1|     3|Braund, Mr. Owen ...|  1|22.0|    1|    0|       A/5 21171|   7.25|       0|       0|\n",
      "|          2|     1|Cumings, Mrs. Joh...|  0|38.0|    1|    0|        PC 17599|71.2833|       1|       1|\n",
      "|          3|     3|Heikkinen, Miss. ...|  0|26.0|    0|    0|STON/O2. 3101282|  7.925|       0|       1|\n",
      "|          4|     1|Futrelle, Mrs. Ja...|  0|35.0|    1|    0|          113803|   53.1|       0|       1|\n",
      "|          5|     3|Allen, Mr. Willia...|  1|35.0|    0|    0|          373450|   8.05|       0|       0|\n",
      "|          6|     3|    Moran, Mr. James|  1|30.0|    0|    0|          330877| 8.4583|       2|       0|\n",
      "|          7|     1|McCarthy, Mr. Tim...|  1|54.0|    0|    0|           17463|51.8625|       0|       0|\n",
      "|          8|     3|Palsson, Master. ...|  1| 2.0|    3|    1|          349909| 21.075|       0|       0|\n",
      "|          9|     3|Johnson, Mrs. Osc...|  0|27.0|    0|    2|          347742|11.1333|       0|       1|\n",
      "|         10|     2|Nasser, Mrs. Nich...|  0|14.0|    1|    0|          237736|30.0708|       1|       1|\n",
      "|         11|     3|Sandstrom, Miss. ...|  0| 4.0|    1|    1|         PP 9549|   16.7|       0|       1|\n",
      "|         12|     1|Bonnell, Miss. El...|  0|58.0|    0|    0|          113783|  26.55|       0|       1|\n",
      "|         13|     3|Saundercock, Mr. ...|  1|20.0|    0|    0|       A/5. 2151|   8.05|       0|       0|\n",
      "|         14|     3|Andersson, Mr. An...|  1|39.0|    1|    5|          347082| 31.275|       0|       0|\n",
      "|         15|     3|Vestrom, Miss. Hu...|  0|14.0|    0|    0|          350406| 7.8542|       0|       0|\n",
      "|         16|     2|Hewlett, Mrs. (Ma...|  0|55.0|    0|    0|          248706|   16.0|       0|       1|\n",
      "|         17|     3|Rice, Master. Eugene|  1| 2.0|    4|    1|          382652| 29.125|       2|       0|\n",
      "|         18|     2|Williams, Mr. Cha...|  1|30.0|    0|    0|          244373|   13.0|       0|       1|\n",
      "|         19|     3|Vander Planke, Mr...|  0|31.0|    1|    0|          345763|   18.0|       0|       0|\n",
      "|         20|     3|Masselmani, Mrs. ...|  0|30.0|    0|    0|            2649|  7.225|       1|       1|\n",
      "+-----------+------+--------------------+---+----+-----+-----+----------------+-------+--------+--------+\n",
      "only showing top 20 rows\n",
      "\n"
     ]
    },
    {
     "name": "stderr",
     "output_type": "stream",
     "text": [
      "                                                                                \r"
     ]
    }
   ],
   "source": [
    "cleanedData.show()"
   ]
  },
  {
   "cell_type": "code",
   "execution_count": 20,
   "id": "e583633c",
   "metadata": {
    "execution": {
     "iopub.execute_input": "2023-03-23T10:38:37.057933Z",
     "iopub.status.busy": "2023-03-23T10:38:37.057392Z",
     "iopub.status.idle": "2023-03-23T10:38:39.586676Z",
     "shell.execute_reply": "2023-03-23T10:38:39.584742Z"
    },
    "papermill": {
     "duration": 2.55619,
     "end_time": "2023-03-23T10:38:39.590583",
     "exception": false,
     "start_time": "2023-03-23T10:38:37.034393",
     "status": "completed"
    },
    "tags": []
   },
   "outputs": [
    {
     "name": "stderr",
     "output_type": "stream",
     "text": [
      "                                                                                \r"
     ]
    },
    {
     "name": "stdout",
     "output_type": "stream",
     "text": [
      "+------------------+-----+\n",
      "|          features|label|\n",
      "+------------------+-----+\n",
      "|[3.0,1.0,22.0,0.0]|  0.0|\n",
      "|[1.0,0.0,38.0,1.0]|  1.0|\n",
      "|[3.0,0.0,26.0,0.0]|  1.0|\n",
      "|[1.0,0.0,35.0,0.0]|  1.0|\n",
      "|[3.0,1.0,35.0,0.0]|  0.0|\n",
      "|[3.0,1.0,30.0,2.0]|  0.0|\n",
      "|[1.0,1.0,54.0,0.0]|  0.0|\n",
      "| [3.0,1.0,2.0,0.0]|  0.0|\n",
      "|[3.0,0.0,27.0,0.0]|  1.0|\n",
      "|[2.0,0.0,14.0,1.0]|  1.0|\n",
      "| [3.0,0.0,4.0,0.0]|  1.0|\n",
      "|[1.0,0.0,58.0,0.0]|  1.0|\n",
      "|[3.0,1.0,20.0,0.0]|  0.0|\n",
      "|[3.0,1.0,39.0,0.0]|  0.0|\n",
      "|[3.0,0.0,14.0,0.0]|  0.0|\n",
      "|[2.0,0.0,55.0,0.0]|  1.0|\n",
      "| [3.0,1.0,2.0,2.0]|  0.0|\n",
      "|[2.0,1.0,30.0,0.0]|  1.0|\n",
      "|[3.0,0.0,31.0,0.0]|  0.0|\n",
      "|[3.0,0.0,30.0,1.0]|  1.0|\n",
      "+------------------+-----+\n",
      "only showing top 20 rows\n",
      "\n"
     ]
    }
   ],
   "source": [
    "Assembler_features = vAss(inputCols = ['Pclass', 'Sex','Age','Embarked'], outputCol = 'features')\n",
    "indexLabel = sInd(inputCol = \"Survived\", outputCol = \"label\")\n",
    "data_prep_pipe = pl(stages = [Assembler_features, indexLabel])\n",
    "assembler = data_prep_pipe.fit(cleanedData)\n",
    "AsscleanedData = assembler.transform(cleanedData)\n",
    "AsscleanedData = AsscleanedData.select(['features', 'label'])\n",
    "AsscleanedData.show()"
   ]
  },
  {
   "cell_type": "markdown",
   "id": "136e8f31",
   "metadata": {
    "papermill": {
     "duration": 0.032164,
     "end_time": "2023-03-23T10:38:39.655864",
     "exception": false,
     "start_time": "2023-03-23T10:38:39.623700",
     "status": "completed"
    },
    "tags": []
   },
   "source": [
    "Data Transformation completed, as well as step 2"
   ]
  },
  {
   "cell_type": "markdown",
   "id": "bfab64b3",
   "metadata": {
    "papermill": {
     "duration": 0.030443,
     "end_time": "2023-03-23T10:38:39.718729",
     "exception": false,
     "start_time": "2023-03-23T10:38:39.688286",
     "status": "completed"
    },
    "tags": []
   },
   "source": [
    "**Conduct the classification on the extracted/selected features**"
   ]
  },
  {
   "cell_type": "markdown",
   "id": "0efe2aeb",
   "metadata": {
    "papermill": {
     "duration": 0.030397,
     "end_time": "2023-03-23T10:38:39.780576",
     "exception": false,
     "start_time": "2023-03-23T10:38:39.750179",
     "status": "completed"
    },
    "tags": []
   },
   "source": [
    "#logistic regression"
   ]
  },
  {
   "cell_type": "code",
   "execution_count": 21,
   "id": "9c069b95",
   "metadata": {
    "execution": {
     "iopub.execute_input": "2023-03-23T10:38:39.845550Z",
     "iopub.status.busy": "2023-03-23T10:38:39.844818Z",
     "iopub.status.idle": "2023-03-23T10:38:39.953182Z",
     "shell.execute_reply": "2023-03-23T10:38:39.951807Z"
    },
    "papermill": {
     "duration": 0.144779,
     "end_time": "2023-03-23T10:38:39.956833",
     "exception": false,
     "start_time": "2023-03-23T10:38:39.812054",
     "status": "completed"
    },
    "tags": []
   },
   "outputs": [],
   "source": [
    "#splitting dataset into training and testing sets.\n",
    "(training, testing) = AsscleanedData.randomSplit([0.7,0.3])\n",
    "from pyspark.ml.classification import LogisticRegression\n",
    "lr = LogisticRegression()"
   ]
  },
  {
   "cell_type": "code",
   "execution_count": 22,
   "id": "c7d15015",
   "metadata": {
    "execution": {
     "iopub.execute_input": "2023-03-23T10:38:40.023686Z",
     "iopub.status.busy": "2023-03-23T10:38:40.023274Z",
     "iopub.status.idle": "2023-03-23T10:38:43.025313Z",
     "shell.execute_reply": "2023-03-23T10:38:43.023935Z"
    },
    "papermill": {
     "duration": 3.038757,
     "end_time": "2023-03-23T10:38:43.028064",
     "exception": false,
     "start_time": "2023-03-23T10:38:39.989307",
     "status": "completed"
    },
    "tags": []
   },
   "outputs": [],
   "source": [
    "survivorPredLog = lr.fit(training)"
   ]
  },
  {
   "cell_type": "code",
   "execution_count": 23,
   "id": "3951ec7a",
   "metadata": {
    "execution": {
     "iopub.execute_input": "2023-03-23T10:38:43.094466Z",
     "iopub.status.busy": "2023-03-23T10:38:43.093937Z",
     "iopub.status.idle": "2023-03-23T10:38:43.503219Z",
     "shell.execute_reply": "2023-03-23T10:38:43.502017Z"
    },
    "papermill": {
     "duration": 0.446133,
     "end_time": "2023-03-23T10:38:43.507666",
     "exception": false,
     "start_time": "2023-03-23T10:38:43.061533",
     "status": "completed"
    },
    "tags": []
   },
   "outputs": [
    {
     "name": "stdout",
     "output_type": "stream",
     "text": [
      "+------------------+-----+--------------------+--------------------+----------+\n",
      "|          features|label|       rawPrediction|         probability|prediction|\n",
      "+------------------+-----+--------------------+--------------------+----------+\n",
      "|[1.0,0.0,17.0,1.0]|  1.0|[-3.1177317232361...|[0.04238173554495...|       1.0|\n",
      "|[1.0,0.0,23.0,0.0]|  1.0|[-2.5370072686437...|[0.07330421234330...|       1.0|\n",
      "|[1.0,0.0,23.0,1.0]|  1.0|[-2.9071831715132...|[0.05179961343720...|       1.0|\n",
      "|[1.0,0.0,24.0,1.0]|  1.0|[-2.8720917462261...|[0.05355053723252...|       1.0|\n",
      "|[1.0,0.0,30.0,1.0]|  1.0|[-2.6615431945032...|[0.06528110530065...|       1.0|\n",
      "|[1.0,0.0,30.0,1.0]|  1.0|[-2.6615431945032...|[0.06528110530065...|       1.0|\n",
      "|[1.0,0.0,32.0,1.0]|  1.0|[-2.5913603439290...|[0.06969652799536...|       1.0|\n",
      "|[1.0,0.0,35.0,0.0]|  1.0|[-2.1159101651979...|[0.10756002763620...|       1.0|\n",
      "|[1.0,0.0,38.0,1.0]|  1.0|[-2.3808117922061...|[0.08464764489298...|       1.0|\n",
      "|[1.0,0.0,41.0,1.0]|  1.0|[-2.2755375163447...|[0.09316929904906...|       1.0|\n",
      "|[1.0,0.0,50.0,1.0]|  1.0|[-1.9597146887604...|[0.12349792810242...|       1.0|\n",
      "|[1.0,1.0,19.0,0.0]|  0.0|[-0.1140584587468...|[0.47151625815786...|       1.0|\n",
      "|[1.0,1.0,25.0,1.0]|  1.0|[-0.2736858098935...|[0.43200245881235...|       1.0|\n",
      "|[1.0,1.0,28.0,0.0]|  1.0|[0.20176436883742...|[0.55027066933220...|       0.0|\n",
      "|[1.0,1.0,28.0,1.0]|  0.0|[-0.1684115340321...|[0.45799634678585...|       1.0|\n",
      "|[1.0,1.0,30.0,1.0]|  0.0|[-0.0982286834578...|[0.47546255585615...|       1.0|\n",
      "|[1.0,1.0,37.0,0.0]|  1.0|[0.51758719642170...|[0.62658339927493...|       0.0|\n",
      "|[1.0,1.0,45.0,0.0]|  0.0|[0.79831859871884...|[0.68961469825154...|       0.0|\n",
      "|[1.0,1.0,45.0,0.0]|  0.0|[0.79831859871884...|[0.68961469825154...|       0.0|\n",
      "|[1.0,1.0,51.0,1.0]|  0.0|[0.63869124757211...|[0.65445755544306...|       0.0|\n",
      "+------------------+-----+--------------------+--------------------+----------+\n",
      "only showing top 20 rows\n",
      "\n"
     ]
    }
   ],
   "source": [
    "testResultsLR = survivorPredLog.transform(testing)\n",
    "testResultsLR.show()"
   ]
  },
  {
   "cell_type": "code",
   "execution_count": 24,
   "id": "f83b6134",
   "metadata": {
    "execution": {
     "iopub.execute_input": "2023-03-23T10:38:43.571552Z",
     "iopub.status.busy": "2023-03-23T10:38:43.570314Z",
     "iopub.status.idle": "2023-03-23T10:38:44.672276Z",
     "shell.execute_reply": "2023-03-23T10:38:44.671011Z"
    },
    "papermill": {
     "duration": 1.13516,
     "end_time": "2023-03-23T10:38:44.675564",
     "exception": false,
     "start_time": "2023-03-23T10:38:43.540404",
     "status": "completed"
    },
    "tags": []
   },
   "outputs": [
    {
     "name": "stdout",
     "output_type": "stream",
     "text": [
      "+----------+-----+\n",
      "|prediction|label|\n",
      "+----------+-----+\n",
      "|       1.0|  1.0|\n",
      "|       1.0|  1.0|\n",
      "|       1.0|  1.0|\n",
      "|       1.0|  1.0|\n",
      "|       1.0|  1.0|\n",
      "|       1.0|  1.0|\n",
      "|       1.0|  1.0|\n",
      "|       1.0|  1.0|\n",
      "|       1.0|  1.0|\n",
      "|       1.0|  1.0|\n",
      "|       1.0|  1.0|\n",
      "|       1.0|  0.0|\n",
      "|       1.0|  1.0|\n",
      "|       0.0|  1.0|\n",
      "|       1.0|  0.0|\n",
      "|       1.0|  0.0|\n",
      "|       0.0|  1.0|\n",
      "|       0.0|  0.0|\n",
      "|       0.0|  0.0|\n",
      "|       0.0|  0.0|\n",
      "+----------+-----+\n",
      "only showing top 20 rows\n",
      "\n"
     ]
    },
    {
     "name": "stderr",
     "output_type": "stream",
     "text": [
      "/opt/conda/lib/python3.7/site-packages/pyspark/sql/context.py:127: FutureWarning: Deprecated in 3.0.0. Use SparkSession.builder.getOrCreate() instead.\n",
      "  FutureWarning\n"
     ]
    },
    {
     "name": "stdout",
     "output_type": "stream",
     "text": [
      "0.78640790655885\n",
      "0.7886792452830189\n",
      "0.7886792452830189\n"
     ]
    },
    {
     "data": {
      "text/plain": [
       "array([[141.,  22.],\n",
       "       [ 34.,  68.]])"
      ]
     },
     "execution_count": 24,
     "metadata": {},
     "output_type": "execute_result"
    }
   ],
   "source": [
    "from pyspark.mllib.evaluation import MulticlassMetrics\n",
    "PredicationAndLabel = testResultsLR['prediction','label']\n",
    "PredicationAndLabel.show()\n",
    "multiMetrics = MulticlassMetrics(PredicationAndLabel.rdd)\n",
    "precisionScore = multiMetrics.weightedPrecision\n",
    "recallScore = multiMetrics.weightedRecall\n",
    "accuracyScore = multiMetrics.accuracy\n",
    "print(precisionScore)\n",
    "print(recallScore)\n",
    "print(accuracyScore)\n",
    "multiMetrics.confusionMatrix().toArray()"
   ]
  },
  {
   "cell_type": "markdown",
   "id": "1ffd076e",
   "metadata": {
    "papermill": {
     "duration": 0.031572,
     "end_time": "2023-03-23T10:38:44.739284",
     "exception": false,
     "start_time": "2023-03-23T10:38:44.707712",
     "status": "completed"
    },
    "tags": []
   },
   "source": [
    "linear regression"
   ]
  },
  {
   "cell_type": "code",
   "execution_count": 25,
   "id": "8de36c21",
   "metadata": {
    "execution": {
     "iopub.execute_input": "2023-03-23T10:38:44.807541Z",
     "iopub.status.busy": "2023-03-23T10:38:44.806560Z",
     "iopub.status.idle": "2023-03-23T10:38:45.720911Z",
     "shell.execute_reply": "2023-03-23T10:38:45.719591Z"
    },
    "papermill": {
     "duration": 0.951883,
     "end_time": "2023-03-23T10:38:45.723827",
     "exception": false,
     "start_time": "2023-03-23T10:38:44.771944",
     "status": "completed"
    },
    "tags": []
   },
   "outputs": [
    {
     "name": "stderr",
     "output_type": "stream",
     "text": [
      "23/03/23 10:38:45 WARN Instrumentation: [5c90d415] regParam is zero, which might cause numerical instability and overfitting.\n"
     ]
    }
   ],
   "source": [
    "(training, testing) = AsscleanedData.randomSplit([0.7,0.3])\n",
    "from pyspark.ml.regression import LinearRegression\n",
    "linr = LinearRegression(featuresCol = 'features', labelCol= 'label')\n",
    "survivedPredictor = linr.fit(training)"
   ]
  },
  {
   "cell_type": "code",
   "execution_count": 26,
   "id": "4d8c080e",
   "metadata": {
    "execution": {
     "iopub.execute_input": "2023-03-23T10:38:45.769574Z",
     "iopub.status.busy": "2023-03-23T10:38:45.768663Z",
     "iopub.status.idle": "2023-03-23T10:38:46.065075Z",
     "shell.execute_reply": "2023-03-23T10:38:46.062482Z"
    },
    "papermill": {
     "duration": 0.323289,
     "end_time": "2023-03-23T10:38:46.069006",
     "exception": false,
     "start_time": "2023-03-23T10:38:45.745717",
     "status": "completed"
    },
    "tags": []
   },
   "outputs": [
    {
     "name": "stdout",
     "output_type": "stream",
     "text": [
      "+------------------+-----+------------------+\n",
      "|        prediction|label|          features|\n",
      "+------------------+-----+------------------+\n",
      "|1.0786179531675977|  0.0| [1.0,0.0,2.0,0.0]|\n",
      "|1.0056136676561476|  1.0|[1.0,0.0,14.0,0.0]|\n",
      "|1.0425112210078888|  1.0|[1.0,0.0,16.0,1.0]|\n",
      "|0.9447767630632722|  1.0|[1.0,0.0,24.0,0.0]|\n",
      "|0.9938416973335886|  1.0|[1.0,0.0,24.0,1.0]|\n",
      "+------------------+-----+------------------+\n",
      "only showing top 5 rows\n",
      "\n"
     ]
    }
   ],
   "source": [
    "test_results = survivedPredictor.transform(testing)\n",
    "test_results.select(\"prediction\", \"label\", \"features\").show(5)"
   ]
  },
  {
   "cell_type": "code",
   "execution_count": 27,
   "id": "8a5140a5",
   "metadata": {
    "execution": {
     "iopub.execute_input": "2023-03-23T10:38:46.138461Z",
     "iopub.status.busy": "2023-03-23T10:38:46.137909Z",
     "iopub.status.idle": "2023-03-23T10:38:46.434676Z",
     "shell.execute_reply": "2023-03-23T10:38:46.433019Z"
    },
    "papermill": {
     "duration": 0.334854,
     "end_time": "2023-03-23T10:38:46.438020",
     "exception": false,
     "start_time": "2023-03-23T10:38:46.103166",
     "status": "completed"
    },
    "tags": []
   },
   "outputs": [
    {
     "name": "stdout",
     "output_type": "stream",
     "text": [
      "Root Mean Squared Error (RMSE) on test data = 0.372511\n"
     ]
    }
   ],
   "source": [
    "test_result = survivedPredictor.evaluate(testing)\n",
    "print(\"Root Mean Squared Error (RMSE) on test data = %g\" % test_result.rootMeanSquaredError)"
   ]
  },
  {
   "cell_type": "markdown",
   "id": "14e40880",
   "metadata": {
    "papermill": {
     "duration": 0.032784,
     "end_time": "2023-03-23T10:38:46.504082",
     "exception": false,
     "start_time": "2023-03-23T10:38:46.471298",
     "status": "completed"
    },
    "tags": []
   },
   "source": [
    "k-means"
   ]
  },
  {
   "cell_type": "code",
   "execution_count": 28,
   "id": "03b10d83",
   "metadata": {
    "execution": {
     "iopub.execute_input": "2023-03-23T10:38:46.571622Z",
     "iopub.status.busy": "2023-03-23T10:38:46.570927Z",
     "iopub.status.idle": "2023-03-23T10:38:47.128795Z",
     "shell.execute_reply": "2023-03-23T10:38:47.127192Z"
    },
    "papermill": {
     "duration": 0.595632,
     "end_time": "2023-03-23T10:38:47.133150",
     "exception": false,
     "start_time": "2023-03-23T10:38:46.537518",
     "status": "completed"
    },
    "tags": []
   },
   "outputs": [
    {
     "name": "stdout",
     "output_type": "stream",
     "text": [
      "+------------------+-----+--------------------+\n",
      "|          features|label|        standardized|\n",
      "+------------------+-----+--------------------+\n",
      "|[3.0,1.0,22.0,0.0]|  0.0|[3.59410662015210...|\n",
      "|[1.0,0.0,38.0,1.0]|  1.0|[1.19803554005070...|\n",
      "+------------------+-----+--------------------+\n",
      "only showing top 2 rows\n",
      "\n"
     ]
    }
   ],
   "source": [
    "# 4.3 StandardScaler\n",
    "from pyspark.ml.feature import StandardScaler\n",
    "scale=StandardScaler(inputCol='features',outputCol='standardized')\n",
    "data_scale=scale.fit(AsscleanedData)\n",
    "data_scale_output=data_scale.transform(AsscleanedData)\n",
    "data_scale_output.show(2)"
   ]
  },
  {
   "cell_type": "code",
   "execution_count": 29,
   "id": "355d4b46",
   "metadata": {
    "execution": {
     "iopub.execute_input": "2023-03-23T10:38:47.185844Z",
     "iopub.status.busy": "2023-03-23T10:38:47.185271Z",
     "iopub.status.idle": "2023-03-23T10:39:04.788188Z",
     "shell.execute_reply": "2023-03-23T10:39:04.786500Z"
    },
    "papermill": {
     "duration": 17.629341,
     "end_time": "2023-03-23T10:39:04.791726",
     "exception": false,
     "start_time": "2023-03-23T10:38:47.162385",
     "status": "completed"
    },
    "tags": []
   },
   "outputs": [
    {
     "name": "stdout",
     "output_type": "stream",
     "text": [
      "Silhouette Score: 0.41292024919415066\n",
      "Silhouette Score: 0.4675981140588185\n",
      "Silhouette Score: 0.4683442424966296\n",
      "Silhouette Score: 0.5310634744940074\n",
      "Silhouette Score: 0.5133596874712587\n",
      "Silhouette Score: 0.536033757998466\n",
      "Silhouette Score: 0.4934993513777766\n",
      "Silhouette Score: 0.4698825683569116\n"
     ]
    }
   ],
   "source": [
    "from pyspark.ml.clustering import KMeans\n",
    "from pyspark.ml.evaluation import ClusteringEvaluator\n",
    "silhouette_score=[]\n",
    "evaluator = ClusteringEvaluator(predictionCol='prediction',\n",
    "featuresCol='standardized',metricName='silhouette',distanceMeasure='squaredEuclidean')\n",
    "for i in range(2,10):\n",
    " KMeans_=KMeans(featuresCol='standardized', k=i)\n",
    " KMeans_fit=KMeans_.fit(data_scale_output)\n",
    " output=KMeans_fit.transform(data_scale_output)\n",
    " score=evaluator.evaluate(output)\n",
    " silhouette_score.append(score)\n",
    " print(\"Silhouette Score:\",score)"
   ]
  },
  {
   "cell_type": "code",
   "execution_count": 30,
   "id": "94a15960",
   "metadata": {
    "execution": {
     "iopub.execute_input": "2023-03-23T10:39:04.838115Z",
     "iopub.status.busy": "2023-03-23T10:39:04.837698Z",
     "iopub.status.idle": "2023-03-23T10:39:06.076470Z",
     "shell.execute_reply": "2023-03-23T10:39:06.074634Z"
    },
    "papermill": {
     "duration": 1.26578,
     "end_time": "2023-03-23T10:39:06.080022",
     "exception": false,
     "start_time": "2023-03-23T10:39:04.814242",
     "status": "completed"
    },
    "tags": []
   },
   "outputs": [
    {
     "name": "stdout",
     "output_type": "stream",
     "text": [
      "Silhouette with squared euclidean distance = 0.68612000835689\n"
     ]
    }
   ],
   "source": [
    "# Trains a k-means model.\n",
    "KMeans_=KMeans(featuresCol='features', k=9)\n",
    "KMeans_Model=KMeans_.fit(data_scale_output)\n",
    "# Make predictions\n",
    "KMeans_prediction=KMeans_Model.transform(data_scale_output)\n",
    "# Evaluate clustering by computing Silhouette score\n",
    "evaluator = ClusteringEvaluator()\n",
    "silhouette = evaluator.evaluate(KMeans_prediction)\n",
    "print(\"Silhouette with squared euclidean distance = \" + str(silhouette))"
   ]
  }
 ],
 "metadata": {
  "kernelspec": {
   "display_name": "Python 3",
   "language": "python",
   "name": "python3"
  },
  "language_info": {
   "codemirror_mode": {
    "name": "ipython",
    "version": 3
   },
   "file_extension": ".py",
   "mimetype": "text/x-python",
   "name": "python",
   "nbconvert_exporter": "python",
   "pygments_lexer": "ipython3",
   "version": "3.7.12"
  },
  "papermill": {
   "default_parameters": {},
   "duration": 103.359321,
   "end_time": "2023-03-23T10:39:08.728170",
   "environment_variables": {},
   "exception": null,
   "input_path": "__notebook__.ipynb",
   "output_path": "__notebook__.ipynb",
   "parameters": {},
   "start_time": "2023-03-23T10:37:25.368849",
   "version": "2.4.0"
  }
 },
 "nbformat": 4,
 "nbformat_minor": 5
}
